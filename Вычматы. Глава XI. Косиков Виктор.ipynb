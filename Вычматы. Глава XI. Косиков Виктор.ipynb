{
 "cells": [
  {
   "cell_type": "markdown",
   "metadata": {},
   "source": [
    "## Задача 9.7"
   ]
  },
  {
   "cell_type": "markdown",
   "metadata": {},
   "source": [
    "Наша задача - решить нелинейно-возмущенную сингулярную краевую задачу:\n",
    "$$\\varepsilon y'' = (y')^2, y(0) = 1, y(1) = 0, \\varepsilon \\ll 1$$\n",
    "Возьмем $\\varepsilon = 10$ \\\n",
    "Найдем точное решение. Для этого решим систему:\n",
    "$$\\begin{equation}\n",
    "\\begin{cases}\n",
    "   y' = p\\\\\n",
    "   p' = \\frac{1}{\\varepsilon}p^2\n",
    " \\end{cases}\n",
    " \\end{equation}$$\n",
    " , где $y(0) = 1, y(1) = 0$ \\\n",
    " Точным решением будет\n",
    " $$y(x) = 0.1(-ln(10x + \\frac{10}{e^{10} + 1}) + ln(\\frac{10}{e^{10} + 1}) + 10)$$"
   ]
  },
  {
   "cell_type": "markdown",
   "metadata": {},
   "source": [
    "Напишем функцию, осуществляющую точное решение и построим ее график на (0, 1)"
   ]
  },
  {
   "cell_type": "code",
   "execution_count": 1,
   "metadata": {},
   "outputs": [],
   "source": [
    "import numpy as np\n",
    "import matplotlib.pyplot as plt"
   ]
  },
  {
   "cell_type": "code",
   "execution_count": 2,
   "metadata": {},
   "outputs": [],
   "source": [
    "#функция точного решения\n",
    "def exact_solution(x):\n",
    "    return 0.1*(-np.log(10*x + (10/(np.exp(10)-1))) + np.log(10/(np.exp(10)-1)) + 10)"
   ]
  },
  {
   "cell_type": "markdown",
   "metadata": {},
   "source": [
    "Рекомендуемое значение для N = 1000000. При меньших N сетка слишком мала и схема расходится. При больших N рекомендую также увеличить параметр acc, потому что при маленьких acc вычисление будет очень трудоемким. В целях визуализации я также продемонстрировал, как быстро находится решение, чем ближе к 0, тем лучше. "
   ]
  },
  {
   "cell_type": "code",
   "execution_count": 10,
   "metadata": {},
   "outputs": [
    {
     "data": {
      "image/png": "[encoded data removed]",
      "text/plain": [
       "<Figure size 432x288 with 1 Axes>"
      ]
     },
     "metadata": {
      "needs_background": "light"
     },
     "output_type": "display_data"
    }
   ],
   "source": [
    "N = 10000000.0\n",
    "acc = 0.001\n",
    "eps = 0.1\n",
    "t = np.linspace(0, 1, int(N)+1)\n",
    "sol = exact_solution(t)\n",
    "fig, ax = plt.subplots()\n",
    "\n",
    "ax.plot(t, sol)\n",
    "ax.grid()\n",
    "\n",
    "#  Добавляем подписи к осям:\n",
    "ax.set_xlabel('x')\n",
    "ax.set_ylabel('y')\n",
    "ax.set_title('Точное решение')\n",
    "\n",
    "plt.show()"
   ]
  },
  {
   "cell_type": "markdown",
   "metadata": {},
   "source": [
    "Теперь решим уравнение численно воспользовавшись схемой:\n",
    "$$\\begin{equation}\n",
    "\\begin{cases}\n",
    "   \\frac{y^{n+1} - y^{n}}{h} = p^{n}\\\\\n",
    "   \\frac{p^{n+1} = p^{n}}{h} = \\frac{1}{\\varepsilon}{p^{n}}^2\n",
    " \\end{cases}\n",
    " \\end{equation}$$"
   ]
  },
  {
   "cell_type": "code",
   "execution_count": 8,
   "metadata": {},
   "outputs": [],
   "source": [
    "#опишем функцию, которая выполнит нам собственно \"стрельбу\", возвращая для каждого из параметров alpha\n",
    "#значение y(1)\n",
    "def shooting(eps, alpha, N):\n",
    "    #N = 1000000.0\n",
    "    t = np.linspace(0, 1, int(N)+1)\n",
    "    p = t.copy()\n",
    "    p[0] = alpha\n",
    "    for i in range(1, len(p)):\n",
    "        p[i] = (1/(N*eps))*(p[i-1]**2) + p[i-1]\n",
    "    y = t.copy()\n",
    "    y[0] = 1\n",
    "    for i in range(1, len(y)):\n",
    "        y[i] = y[i-1] + (1/N)*p[i]\n",
    "    return y[-1]"
   ]
  },
  {
   "cell_type": "code",
   "execution_count": 9,
   "metadata": {},
   "outputs": [
    {
     "name": "stdout",
     "output_type": "stream",
     "text": [
      "0.6646203753417442\n",
      "0.5756224372943475\n",
      "0.4970490166369527\n"
     ]
    },
    {
     "ename": "KeyboardInterrupt",
     "evalue": "",
     "output_type": "error",
     "traceback": [
      "\u001b[0;31m---------------------------------------------------------------------------\u001b[0m",
      "\u001b[0;31mKeyboardInterrupt\u001b[0m                         Traceback (most recent call last)",
      "\u001b[0;32m<ipython-input-9-a4cac1d463fb>\u001b[0m in \u001b[0;36m<module>\u001b[0;34m\u001b[0m\n\u001b[1;32m      5\u001b[0m \u001b[0;32mwhile\u001b[0m\u001b[0;34m(\u001b[0m\u001b[0mabs\u001b[0m\u001b[0;34m(\u001b[0m\u001b[0mres\u001b[0m\u001b[0;34m)\u001b[0m \u001b[0;34m>\u001b[0m \u001b[0macc\u001b[0m\u001b[0;34m)\u001b[0m\u001b[0;34m:\u001b[0m\u001b[0;34m\u001b[0m\u001b[0;34m\u001b[0m\u001b[0m\n\u001b[1;32m      6\u001b[0m     \u001b[0mprint\u001b[0m\u001b[0;34m(\u001b[0m\u001b[0mabs\u001b[0m\u001b[0;34m(\u001b[0m\u001b[0mres\u001b[0m\u001b[0;34m)\u001b[0m\u001b[0;34m)\u001b[0m\u001b[0;34m\u001b[0m\u001b[0;34m\u001b[0m\u001b[0m\n\u001b[0;32m----> 7\u001b[0;31m     \u001b[0mres\u001b[0m \u001b[0;34m=\u001b[0m \u001b[0mshooting\u001b[0m\u001b[0;34m(\u001b[0m\u001b[0meps\u001b[0m\u001b[0;34m,\u001b[0m \u001b[0;34m(\u001b[0m\u001b[0malpha_left\u001b[0m \u001b[0;34m+\u001b[0m \u001b[0malpha_right\u001b[0m\u001b[0;34m)\u001b[0m\u001b[0;34m/\u001b[0m\u001b[0;36m2\u001b[0m\u001b[0;34m,\u001b[0m \u001b[0mN\u001b[0m\u001b[0;34m)\u001b[0m\u001b[0;34m\u001b[0m\u001b[0;34m\u001b[0m\u001b[0m\n\u001b[0m\u001b[1;32m      8\u001b[0m     \u001b[0;32mif\u001b[0m \u001b[0;34m(\u001b[0m\u001b[0mres\u001b[0m \u001b[0;34m<\u001b[0m \u001b[0;36m0\u001b[0m\u001b[0;34m)\u001b[0m\u001b[0;34m:\u001b[0m\u001b[0;34m\u001b[0m\u001b[0;34m\u001b[0m\u001b[0m\n\u001b[1;32m      9\u001b[0m         \u001b[0malpha_left\u001b[0m \u001b[0;34m=\u001b[0m \u001b[0;34m(\u001b[0m\u001b[0malpha_left\u001b[0m \u001b[0;34m+\u001b[0m \u001b[0malpha_right\u001b[0m\u001b[0;34m)\u001b[0m\u001b[0;34m/\u001b[0m\u001b[0;36m2\u001b[0m\u001b[0;34m\u001b[0m\u001b[0;34m\u001b[0m\u001b[0m\n",
      "\u001b[0;32m<ipython-input-8-164d7364c85c>\u001b[0m in \u001b[0;36mshooting\u001b[0;34m(eps, alpha, N)\u001b[0m\n\u001b[1;32m      7\u001b[0m     \u001b[0mp\u001b[0m\u001b[0;34m[\u001b[0m\u001b[0;36m0\u001b[0m\u001b[0;34m]\u001b[0m \u001b[0;34m=\u001b[0m \u001b[0malpha\u001b[0m\u001b[0;34m\u001b[0m\u001b[0;34m\u001b[0m\u001b[0m\n\u001b[1;32m      8\u001b[0m     \u001b[0;32mfor\u001b[0m \u001b[0mi\u001b[0m \u001b[0;32min\u001b[0m \u001b[0mrange\u001b[0m\u001b[0;34m(\u001b[0m\u001b[0;36m1\u001b[0m\u001b[0;34m,\u001b[0m \u001b[0mlen\u001b[0m\u001b[0;34m(\u001b[0m\u001b[0mp\u001b[0m\u001b[0;34m)\u001b[0m\u001b[0;34m)\u001b[0m\u001b[0;34m:\u001b[0m\u001b[0;34m\u001b[0m\u001b[0;34m\u001b[0m\u001b[0m\n\u001b[0;32m----> 9\u001b[0;31m         \u001b[0mp\u001b[0m\u001b[0;34m[\u001b[0m\u001b[0mi\u001b[0m\u001b[0;34m]\u001b[0m \u001b[0;34m=\u001b[0m \u001b[0;34m(\u001b[0m\u001b[0;36m1\u001b[0m\u001b[0;34m/\u001b[0m\u001b[0;34m(\u001b[0m\u001b[0mN\u001b[0m\u001b[0;34m*\u001b[0m\u001b[0meps\u001b[0m\u001b[0;34m)\u001b[0m\u001b[0;34m)\u001b[0m\u001b[0;34m*\u001b[0m\u001b[0;34m(\u001b[0m\u001b[0mp\u001b[0m\u001b[0;34m[\u001b[0m\u001b[0mi\u001b[0m\u001b[0;34m-\u001b[0m\u001b[0;36m1\u001b[0m\u001b[0;34m]\u001b[0m\u001b[0;34m**\u001b[0m\u001b[0;36m2\u001b[0m\u001b[0;34m)\u001b[0m \u001b[0;34m+\u001b[0m \u001b[0mp\u001b[0m\u001b[0;34m[\u001b[0m\u001b[0mi\u001b[0m\u001b[0;34m-\u001b[0m\u001b[0;36m1\u001b[0m\u001b[0;34m]\u001b[0m\u001b[0;34m\u001b[0m\u001b[0;34m\u001b[0m\u001b[0m\n\u001b[0m\u001b[1;32m     10\u001b[0m     \u001b[0my\u001b[0m \u001b[0;34m=\u001b[0m \u001b[0mt\u001b[0m\u001b[0;34m.\u001b[0m\u001b[0mcopy\u001b[0m\u001b[0;34m(\u001b[0m\u001b[0;34m)\u001b[0m\u001b[0;34m\u001b[0m\u001b[0;34m\u001b[0m\u001b[0m\n\u001b[1;32m     11\u001b[0m     \u001b[0my\u001b[0m\u001b[0;34m[\u001b[0m\u001b[0;36m0\u001b[0m\u001b[0;34m]\u001b[0m \u001b[0;34m=\u001b[0m \u001b[0;36m1\u001b[0m\u001b[0;34m\u001b[0m\u001b[0;34m\u001b[0m\u001b[0m\n",
      "\u001b[0;31mKeyboardInterrupt\u001b[0m: "
     ]
    }
   ],
   "source": [
    "#бинарным поиском найдем параметр alpha\n",
    "alpha_left = -10000\n",
    "alpha_right = -1000\n",
    "res = shooting(eps, alpha_left, N)\n",
    "while(abs(res) > acc):\n",
    "    print(abs(res))\n",
    "    res = shooting(eps, (alpha_left + alpha_right)/2, N)\n",
    "    if (res < 0):\n",
    "        alpha_left = (alpha_left + alpha_right)/2\n",
    "    else:\n",
    "        alpha_right = (alpha_left + alpha_right)/2"
   ]
  },
  {
   "cell_type": "code",
   "execution_count": null,
   "metadata": {},
   "outputs": [],
   "source": [
    "print(\"Прицельный параметр: \", (alpha_left + alpha_right)/2)"
   ]
  },
  {
   "cell_type": "code",
   "execution_count": null,
   "metadata": {},
   "outputs": [],
   "source": [
    "#воспользуемся этим чтобы посчитать значение y в каждой точке\n",
    "alpha = (alpha_left + alpha_right)/2\n",
    "t = np.linspace(0, 1, int(N)+1)\n",
    "p = t.copy()\n",
    "p[0] = alpha\n",
    "for i in range(1, len(p)):\n",
    "    p[i] = (1/(N*eps))*(p[i-1]**2) + p[i-1]\n",
    "y = t.copy()\n",
    "y[0] = 1\n",
    "for i in range(1, len(y)):\n",
    "    y[i] = y[i-1] + (1/N)*p[i]"
   ]
  },
  {
   "cell_type": "code",
   "execution_count": null,
   "metadata": {},
   "outputs": [],
   "source": [
    "#построим график\n",
    "fig, ax = plt.subplots()\n",
    "\n",
    "ax.plot(t, y)\n",
    "ax.grid()\n",
    "\n",
    "#  Добавляем подписи к осям:\n",
    "ax.set_xlabel('x')\n",
    "ax.set_ylabel('y')\n",
    "\n",
    "plt.show()"
   ]
  },
  {
   "cell_type": "markdown",
   "metadata": {},
   "source": [
    "Найдем среднеквадратичное отклонение "
   ]
  },
  {
   "cell_type": "code",
   "execution_count": null,
   "metadata": {},
   "outputs": [],
   "source": [
    "from sklearn.metrics import mean_squared_error as mse\n",
    "print(\"Среднеквадратичное отклонение: \", mse(sol, y))"
   ]
  },
  {
   "cell_type": "markdown",
   "metadata": {},
   "source": [
    "Как видно, отклонение весьма небольшое, но при $\\varepsilon \\rightarrow 0$ вычисление становится все сложнее и \n",
    "параметр $\\alpha$ становится все больше по модулю, что может привести к переполнению разряда, так что такие хорошие результаты получаются только для вот таких сравнительно больших $\\varepsilon$."
   ]
  },
  {
   "cell_type": "code",
   "execution_count": null,
   "metadata": {},
   "outputs": [],
   "source": []
  }
 ],
 "metadata": {
  "kernelspec": {
   "display_name": "Python 3",
   "language": "python",
   "name": "python3"
  },
  "language_info": {
   "codemirror_mode": {
    "name": "ipython",
    "version": 3
   },
   "file_extension": ".py",
   "mimetype": "text/x-python",
   "name": "python",
   "nbconvert_exporter": "python",
   "pygments_lexer": "ipython3",
   "version": "3.7.4"
  }
 },
 "nbformat": 4,
 "nbformat_minor": 2
}
