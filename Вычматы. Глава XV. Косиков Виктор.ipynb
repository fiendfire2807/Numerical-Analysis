{
 "cells": [
  {
   "cell_type": "markdown",
   "metadata": {},
   "source": [
    "# Практическая задача по главе XV"
   ]
  },
  {
   "cell_type": "markdown",
   "metadata": {},
   "source": [
    "Постановка задачи: \\\n",
    "Решить задачу Дирихле в квадрате для уравнения Пуассона:\n",
    "$$\\frac{\\partial^{2} u}{\\partial x^2} + \\frac{\\partial^{2} u}{\\partial y^2} = f(x, y),$$\n",
    "$$0 \\leq x \\leq 1, 0 \\leq y \\leq 1$$\n",
    "$$f(x, y) = -32(x(1-x) + y(1-y))$$\n",
    "$$u(x, y) \\bigg | _{x, y \\in \\Gamma} = 0$$"
   ]
  },
  {
   "cell_type": "markdown",
   "metadata": {},
   "source": [
    "## Простая итерация с оптимальным параметром"
   ]
  },
  {
   "cell_type": "markdown",
   "metadata": {},
   "source": [
    "Для системы сеточных уравнений запишем схему в виде:\n",
    "$$u_{ml}^{i+1} = u_{ml}^{i} + \\tau(\\mathbf{\\Lambda}u_{ml}^{i} - f_{ml})$$\n",
    "$l \\approx 2\\pi^{2}, L = 8N^2$, значит оптимальный параметр $\\tau$ равен $\\frac{2}{l+L}$"
   ]
  },
  {
   "cell_type": "markdown",
   "metadata": {},
   "source": [
    "Сетка будет с шагом $0.01$, так как более плотные сетки будут сильно хуже сходиться"
   ]
  },
  {
   "cell_type": "code",
   "execution_count": 1,
   "metadata": {},
   "outputs": [],
   "source": [
    "import numpy as np\n",
    "import math"
   ]
  },
  {
   "cell_type": "code",
   "execution_count": 17,
   "metadata": {},
   "outputs": [],
   "source": [
    "#определим количество узлов и сетку\n",
    "N = 100\n",
    "space = np.zeros((N, N))"
   ]
  },
  {
   "cell_type": "code",
   "execution_count": 18,
   "metadata": {},
   "outputs": [],
   "source": [
    "#определим функцию f\n",
    "def f(i, j, N):\n",
    "    x = float(i / N)\n",
    "    y = float(j / N)\n",
    "    return -32*(x*(1 - x) + y*(1-y))"
   ]
  },
  {
   "cell_type": "code",
   "execution_count": 19,
   "metadata": {},
   "outputs": [],
   "source": [
    "#оператор Лапласа\n",
    "def lapl(h, a, b, c, d, e):\n",
    "    return ((1/h)**2)*(c - 4*b + a + d + e)"
   ]
  },
  {
   "cell_type": "code",
   "execution_count": 20,
   "metadata": {},
   "outputs": [],
   "source": [
    "#определим константы тау и h\n",
    "tau_opt = 2/((math.pi)**2 + 8*(N**2))\n",
    "h = 1.0/N"
   ]
  },
  {
   "cell_type": "code",
   "execution_count": 21,
   "metadata": {},
   "outputs": [
    {
     "name": "stdout",
     "output_type": "stream",
     "text": [
      "10.0 процентов выполнено\n",
      "20.0 процентов выполнено\n",
      "30.0 процентов выполнено\n",
      "40.0 процентов выполнено\n",
      "50.0 процентов выполнено\n",
      "60.0 процентов выполнено\n",
      "70.0 процентов выполнено\n",
      "80.0 процентов выполнено\n",
      "90.0 процентов выполнено\n",
      "100.0 процентов выполнено\n"
     ]
    }
   ],
   "source": [
    "#число итераций было выбрано опытным путем\n",
    "for k in range(7000):\n",
    "    if (((k+1) % 700) == 0):\n",
    "        print(100*(k+1)/7000, 'процентов выполнено')\n",
    "    res = space[5, 60]\n",
    "    for i in range(1, N - 1):\n",
    "        for j in range(1, N - 1):\n",
    "            space[i, j] += tau_opt*(lapl(h, space[i-1, j], space[i, j], space[i+1, j], space[i, j+1], space[i, j-1])\\\n",
    "                           - f(i, j, N))"
   ]
  },
  {
   "cell_type": "code",
   "execution_count": 8,
   "metadata": {},
   "outputs": [],
   "source": [
    "#сохраним результат\n",
    "old_space = space.copy()"
   ]
  },
  {
   "cell_type": "code",
   "execution_count": 10,
   "metadata": {},
   "outputs": [],
   "source": [
    "#проведем еще итерацию чтобы посмотреть на сходимость\n",
    "for i in range(1, N - 1):\n",
    "        for j in range(1, N - 1):\n",
    "            space[i, j] += tau_opt*(lapl(h, space[i-1, j], space[i, j], space[i+1, j], space[i, j+1], space[i, j-1])\\\n",
    "                           - f(i, j, N))"
   ]
  },
  {
   "cell_type": "code",
   "execution_count": 11,
   "metadata": {},
   "outputs": [],
   "source": [
    "from sklearn.metrics import mean_squared_error as mse\n",
    "from sklearn.metrics import max_error"
   ]
  },
  {
   "cell_type": "code",
   "execution_count": 12,
   "metadata": {},
   "outputs": [
    {
     "name": "stdout",
     "output_type": "stream",
     "text": [
      "9.175329324095927e-07\n"
     ]
    }
   ],
   "source": [
    "#определим максимальное расхождение за эту итерацию\n",
    "errors = np.zeros(N)\n",
    "for i in range(N):\n",
    "    errors[i] = max_error(space[i], old_space[i])\n",
    "print(max(errors))"
   ]
  },
  {
   "cell_type": "markdown",
   "metadata": {},
   "source": [
    "## Чебышевское ускорение метода простых итераций"
   ]
  },
  {
   "cell_type": "code",
   "execution_count": 13,
   "metadata": {},
   "outputs": [],
   "source": [
    "#реализуем функцию, которая будет в правильном порядке организовывать корни полинома Чебышева\n",
    "def arrange_knots(i):\n",
    "    if (i == 1):\n",
    "        return np.arange(1, 3)\n",
    "    else:\n",
    "        pred = arrange_knots(i-1)\n",
    "        add = np.zeros(len(pred))\n",
    "        for j in range(len(pred)):\n",
    "            add[j] = (2**i + 1) - pred[j]\n",
    "        ans = np.zeros(2*len(pred))\n",
    "        for i in range(len(ans)):\n",
    "            if (i % 2 == 0):\n",
    "                ans[i] = pred[i // 2]\n",
    "            else:\n",
    "                ans[i] = add[i // 2]\n",
    "        return ans"
   ]
  },
  {
   "cell_type": "code",
   "execution_count": 14,
   "metadata": {},
   "outputs": [],
   "source": [
    "#напишем функцию, которая указывает какой коэффициент tau_j следует использовать\n",
    "def Chebyshev_knots(it, l, L):\n",
    "    knots = np.zeros(it)\n",
    "    for i in range(it):\n",
    "        znam = ((L + l)/2.0) + ((L-l)/2.0)*(np.cos(math.pi*(2*i+1)/(2*it)))\n",
    "        knots[i] = 1.0/(znam)\n",
    "    order = math.log(it, 2)\n",
    "    arrange_k = arrange_knots(order)\n",
    "    arrange_k = arrange_k - 1\n",
    "    answer = np.zeros(len(knots))\n",
    "    for i in range(len(answer)):\n",
    "        index = int(arrange_k[i])\n",
    "        answer[i] = knots[index]\n",
    "    return answer"
   ]
  },
  {
   "cell_type": "code",
   "execution_count": 15,
   "metadata": {},
   "outputs": [],
   "source": [
    "N = 100\n",
    "n_space = np.zeros((N, N))"
   ]
  },
  {
   "cell_type": "code",
   "execution_count": 16,
   "metadata": {},
   "outputs": [
    {
     "name": "stdout",
     "output_type": "stream",
     "text": [
      "25.0 процентов выполнено\n",
      "50.0 процентов выполнено\n",
      "75.0 процентов выполнено\n",
      "100.0 процентов выполнено\n"
     ]
    }
   ],
   "source": [
    "it = Chebyshev_knots(4096, 2*(math.pi**2), 8*(N**2))\n",
    "for k in range(4096):\n",
    "    if (((k+1) % 1024) == 0):\n",
    "        print(100*(k+1)/4096, 'процентов выполнено')\n",
    "    tau = tau_opt\n",
    "    for i in range(1, N - 1):\n",
    "        for j in range(1, N - 1):\n",
    "            n_space[i, j] += tau*(lapl(h, n_space[i-1, j], n_space[i, j], n_space[i+1, j], \\\n",
    "                                       n_space[i, j+1], n_space[i, j-1]) - f(i, j, N))"
   ]
  },
  {
   "cell_type": "code",
   "execution_count": 17,
   "metadata": {},
   "outputs": [],
   "source": [
    "old_n_space = n_space.copy()"
   ]
  },
  {
   "cell_type": "code",
   "execution_count": 18,
   "metadata": {},
   "outputs": [],
   "source": [
    "for i in range(1, N - 1):\n",
    "        for j in range(1, N - 1):\n",
    "            tau = it[511]\n",
    "            n_space[i, j] += tau*(lapl(h, n_space[i-1, j], n_space[i, j], n_space[i+1, j], \\\n",
    "                                       n_space[i, j+1], n_space[i, j-1]) - f(i, j, N))"
   ]
  },
  {
   "cell_type": "code",
   "execution_count": 19,
   "metadata": {},
   "outputs": [
    {
     "name": "stdout",
     "output_type": "stream",
     "text": [
      "0.002896641222587334\n"
     ]
    }
   ],
   "source": [
    "errors = np.zeros(N)\n",
    "for i in range(N):\n",
    "    errors[i] = max_error(n_space[i], old_n_space[i])\n",
    "print(max(errors))"
   ]
  },
  {
   "cell_type": "markdown",
   "metadata": {},
   "source": [
    "Как видно, метод также сходится"
   ]
  },
  {
   "cell_type": "markdown",
   "metadata": {},
   "source": [
    "## Визуализация решения"
   ]
  },
  {
   "cell_type": "code",
   "execution_count": 20,
   "metadata": {},
   "outputs": [],
   "source": [
    "import matplotlib as mpl\n",
    "from matplotlib import pyplot"
   ]
  },
  {
   "cell_type": "code",
   "execution_count": 22,
   "metadata": {},
   "outputs": [
    {
     "data": {
      "image/png": "[encoded data removed]",
      "text/plain": [
       "<Figure size 432x288 with 2 Axes>"
      ]
     },
     "metadata": {
      "needs_background": "light"
     },
     "output_type": "display_data"
    }
   ],
   "source": [
    "fig = pyplot.figure(2)\n",
    "\n",
    "cmap2 = mpl.colors.LinearSegmentedColormap.from_list('my_colormap',\n",
    "                                           ['blue','black','red'],\n",
    "                                           256)\n",
    "\n",
    "img2 = pyplot.imshow(space,interpolation='nearest',\n",
    "                    cmap = cmap2,\n",
    "                    origin='lower')\n",
    "\n",
    "pyplot.colorbar(img2,cmap=cmap2)\n",
    "\n",
    "fig.savefig(\"image2.png\")"
   ]
  },
  {
   "cell_type": "markdown",
   "metadata": {},
   "source": [
    "## Точное решение"
   ]
  },
  {
   "cell_type": "code",
   "execution_count": 14,
   "metadata": {},
   "outputs": [],
   "source": [
    "N = 100\n",
    "c_space = np.zeros((N, N))"
   ]
  },
  {
   "cell_type": "code",
   "execution_count": 15,
   "metadata": {},
   "outputs": [],
   "source": [
    "for i in range(N):\n",
    "    for j in range(N):\n",
    "        x = float(i/N)\n",
    "        y = float(j/N)\n",
    "        c_space[i, j] = 16*x*(1-x)*y*(1-y) "
   ]
  },
  {
   "cell_type": "code",
   "execution_count": 12,
   "metadata": {},
   "outputs": [],
   "source": [
    "import matplotlib as mpl\n",
    "from matplotlib import pyplot"
   ]
  },
  {
   "cell_type": "code",
   "execution_count": 16,
   "metadata": {},
   "outputs": [
    {
     "data": {
      "image/png": "[encoded data removed]",
      "text/plain": [
       "<Figure size 432x288 with 2 Axes>"
      ]
     },
     "metadata": {
      "needs_background": "light"
     },
     "output_type": "display_data"
    }
   ],
   "source": [
    "fig = pyplot.figure(2)\n",
    "\n",
    "cmap2 = mpl.colors.LinearSegmentedColormap.from_list('my_colormap',\n",
    "                                           ['blue','black','red'],\n",
    "                                           256)\n",
    "\n",
    "img2 = pyplot.imshow(c_space,interpolation='nearest',\n",
    "                    cmap = cmap2,\n",
    "                    origin='lower')\n",
    "\n",
    "pyplot.colorbar(img2,cmap=cmap2)\n",
    "\n",
    "fig.savefig(\"image2.png\")"
   ]
  },
  {
   "cell_type": "code",
   "execution_count": 23,
   "metadata": {},
   "outputs": [
    {
     "name": "stdout",
     "output_type": "stream",
     "text": [
      "1.9067943094266648\n"
     ]
    }
   ],
   "source": [
    "print(np.linalg.norm(space-c_space))"
   ]
  },
  {
   "cell_type": "code",
   "execution_count": null,
   "metadata": {},
   "outputs": [],
   "source": []
  }
 ],
 "metadata": {
  "kernelspec": {
   "display_name": "Python 3",
   "language": "python",
   "name": "python3"
  },
  "language_info": {
   "codemirror_mode": {
    "name": "ipython",
    "version": 3
   },
   "file_extension": ".py",
   "mimetype": "text/x-python",
   "name": "python",
   "nbconvert_exporter": "python",
   "pygments_lexer": "ipython3",
   "version": "3.7.4"
  }
 },
 "nbformat": 4,
 "nbformat_minor": 2
}
