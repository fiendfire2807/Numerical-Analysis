{
 "cells": [
  {
   "cell_type": "markdown",
   "metadata": {},
   "source": [
    "# Вычислительный модуль к курсовой работе по дисциплине \"Вычислительная математика\""
   ]
  },
  {
   "cell_type": "markdown",
   "metadata": {},
   "source": [
    "## Уравнение Кортевега- де Фриза"
   ]
  },
  {
   "cell_type": "markdown",
   "metadata": {},
   "source": [
    "## Выполнил Косиков В. В., гр. 716"
   ]
  },
  {
   "cell_type": "markdown",
   "metadata": {},
   "source": [
    "Подробные теоретические рассуждения и выводы касательно этой работы рассмартиваются в основном файле, тут я только провожу вычисления и объясняю работу всех ячеек."
   ]
  },
  {
   "cell_type": "code",
   "execution_count": 1,
   "metadata": {},
   "outputs": [],
   "source": [
    "#импорт зависимостей\n",
    "import numpy as np\n",
    "import math\n",
    "import matplotlib.pyplot as plt\n",
    "from sklearn.metrics import max_error"
   ]
  },
  {
   "cell_type": "markdown",
   "metadata": {},
   "source": [
    "## Один солитон"
   ]
  },
  {
   "cell_type": "markdown",
   "metadata": {},
   "source": [
    "### Точное решение"
   ]
  },
  {
   "cell_type": "code",
   "execution_count": 2,
   "metadata": {},
   "outputs": [],
   "source": [
    "#создадим пространственную сетку\n",
    "x = np.linspace(-10, 10, 81)"
   ]
  },
  {
   "cell_type": "code",
   "execution_count": 3,
   "metadata": {},
   "outputs": [],
   "source": [
    "#напишем функцию для точного вычисления значения функции в зависимости от момента времени и точки пространства\n",
    "def one_solit(x, t):\n",
    "    c = 2\n",
    "    in_brackets = (np.sqrt(c)/2)*(x - c*t)\n",
    "    answer = (-c/2)*(np.cosh(in_brackets))**(-2)\n",
    "    return answer"
   ]
  },
  {
   "cell_type": "code",
   "execution_count": 4,
   "metadata": {},
   "outputs": [],
   "source": [
    "#зададим начальное условие\n",
    "u_0 = one_solit(x, 0)"
   ]
  },
  {
   "cell_type": "code",
   "execution_count": 5,
   "metadata": {},
   "outputs": [
    {
     "data": {
      "text/plain": [
       "Text(0.5, 1.0, 'Начальное условие')"
      ]
     },
     "execution_count": 5,
     "metadata": {},
     "output_type": "execute_result"
    },
    {
     "data": {
      "image/png": "[encoded data removed]",
      "text/plain": [
       "<Figure size 432x288 with 1 Axes>"
      ]
     },
     "metadata": {
      "needs_background": "light"
     },
     "output_type": "display_data"
    }
   ],
   "source": [
    "#визуализируем начальное условие\n",
    "plt.step(x, np.squeeze(u_0))\n",
    "plt.grid()\n",
    "plt.xlabel('x')\n",
    "plt.ylabel('u(x, 0)')\n",
    "plt.title('Начальное условие')"
   ]
  },
  {
   "cell_type": "code",
   "execution_count": 6,
   "metadata": {},
   "outputs": [],
   "source": [
    "#чтобы было, с чем сравнивать визуально, рассмотрим момент времени 0.7с\n",
    "u_07 = one_solit(x, 0.7)"
   ]
  },
  {
   "cell_type": "code",
   "execution_count": 7,
   "metadata": {},
   "outputs": [
    {
     "data": {
      "text/plain": [
       "Text(0.5, 1.0, 'Решение в момент времени 0.7с')"
      ]
     },
     "execution_count": 7,
     "metadata": {},
     "output_type": "execute_result"
    },
    {
     "data": {
      "image/png": "[encoded data removed]",
      "text/plain": [
       "<Figure size 432x288 with 1 Axes>"
      ]
     },
     "metadata": {
      "needs_background": "light"
     },
     "output_type": "display_data"
    }
   ],
   "source": [
    "plt.step(x, np.squeeze(u_07))\n",
    "plt.grid()\n",
    "plt.xlabel('x')\n",
    "plt.ylabel('u(x, 0.7)')\n",
    "plt.title('Решение в момент времени 0.7с')\n"
   ]
  },
  {
   "cell_type": "markdown",
   "metadata": {},
   "source": [
    "### Схема"
   ]
  },
  {
   "cell_type": "code",
   "execution_count": 8,
   "metadata": {},
   "outputs": [],
   "source": [
    "#cоздаем пространственную и временную сетки\n",
    "x = np.linspace(-10, 10, 81)\n",
    "h = x[1] - x[0]\n",
    "dt = 0.0001\n",
    "T = 1.0"
   ]
  },
  {
   "cell_type": "markdown",
   "metadata": {},
   "source": [
    "Cхема:\n",
    "$$\\frac{u_{m}^{n+1} - u_{m}^{n}}{\\tau} = \\frac{3(u_{m+1})^2 - 3(u_{m-1})^2}{2h} - \n",
    "\\frac{u_{m+2} - 2u_{m+1} + 2u_{m-1} - u_{m-2}}{2h^3}$$"
   ]
  },
  {
   "cell_type": "code",
   "execution_count": 9,
   "metadata": {},
   "outputs": [],
   "source": [
    "#создаем массив\n",
    "sol = np.zeros((int(T/dt), len(x)))\n",
    "sol[0] = u_0"
   ]
  },
  {
   "cell_type": "code",
   "execution_count": 10,
   "metadata": {},
   "outputs": [],
   "source": [
    "side = np.zeros((int(T/dt), 2))\n",
    "sol = np.concatenate((side, sol), axis=1)\n",
    "sol = np.concatenate((sol, side), axis=1)"
   ]
  },
  {
   "cell_type": "code",
   "execution_count": 11,
   "metadata": {},
   "outputs": [],
   "source": [
    "#создаем функцию для вычисления по схеме\n",
    "def calculate(dt, dx, a, b, c, d, e):\n",
    "    ans = c + (dt/(2*dx))*(3*(d**2) - 3*(b**2)) - (dt/(2*dx**3))*(e - 2*d + 2*b - a)\n",
    "    return ans"
   ]
  },
  {
   "cell_type": "code",
   "execution_count": 12,
   "metadata": {},
   "outputs": [],
   "source": [
    "def first_integral(arr, h):\n",
    "    integral = 0\n",
    "    for i in arr:\n",
    "        integral += i*h\n",
    "    return integral"
   ]
  },
  {
   "cell_type": "code",
   "execution_count": 13,
   "metadata": {},
   "outputs": [],
   "source": [
    "def second_integral(arr, h):\n",
    "    integral= 0\n",
    "    for i in arr:\n",
    "        integral += (i**2)*h\n",
    "    return integral"
   ]
  },
  {
   "cell_type": "code",
   "execution_count": 14,
   "metadata": {},
   "outputs": [],
   "source": [
    "def fourth_integral(arr, h):\n",
    "    integral = 0\n",
    "    for i in range(1, len(arr)-1):\n",
    "        u_x = (arr[i+1] - arr[i-1])/(2*h)\n",
    "        integral += (arr[i]**3) + 0.5*(u_x**2)\n",
    "    return integral"
   ]
  },
  {
   "cell_type": "code",
   "execution_count": 15,
   "metadata": {},
   "outputs": [],
   "source": [
    "def checking_for_integrals(space, h, x):\n",
    "    a, b = space.shape\n",
    "    first_integrals = np.zeros(a)\n",
    "    second_integrals = np.zeros(a)\n",
    "    fourth_integrals = np.zeros(a)\n",
    "    for i in range(a):\n",
    "        array = space[i, 3 : b-2]\n",
    "        first_integrals[i] = first_integral(array, h)\n",
    "        second_integrals[i] = second_integral(array, h)\n",
    "        fourth_integrals[i] = fourth_integral(array, h)\n",
    "    plt.plot(x, first_integrals, 'r', x, second_integrals, 'g', x, fourth_integrals, 'b')\n",
    "    plt.xlabel('t')\n",
    "    plt.ylabel('Значение интеграла')\n",
    "    plt.title('Демонстрация сохранения интеграла')\n",
    "    plt.legend(['Первый интеграл', 'Второй интеграл', 'Четвертый интеграл'])\n",
    "    plt.grid()\n",
    "    plt.show\n",
    "    print('Для первого интеграла: ')\n",
    "    print(' Среднее значение: ', np.mean(first_integrals))\n",
    "    print(' Среднеквадратичное отклонение: ', np.std(first_integrals))\n",
    "    print('Для второго интеграла :')\n",
    "    print(' Среднее значение: ', np.mean(second_integrals))\n",
    "    print(' Среднеквадратичное отклонение: ', np.std(second_integrals))\n",
    "    print('Для четвертого интеграла :' )\n",
    "    print(' Среднее значение: ', np.mean(fourth_integrals))\n",
    "    print(' Среднеквадратичное отклонение: ', np.std(fourth_integrals))"
   ]
  },
  {
   "cell_type": "code",
   "execution_count": 16,
   "metadata": {},
   "outputs": [],
   "source": [
    "#собственно проводим вычисления\n",
    "t, x = sol.shape\n",
    "for i in range(1, t):\n",
    "    for j in range(3, x-2):\n",
    "        sol[i, j] = calculate(dt, h, sol[i-1, j-2], sol[i-1, j-1], sol[i-1, j], \\\n",
    "                             sol[i-1, j+1], sol[i-1, j+2])"
   ]
  },
  {
   "cell_type": "code",
   "execution_count": 17,
   "metadata": {},
   "outputs": [],
   "source": [
    "sol025 = sol.copy()"
   ]
  },
  {
   "cell_type": "code",
   "execution_count": 18,
   "metadata": {},
   "outputs": [
    {
     "name": "stdout",
     "output_type": "stream",
     "text": [
      "Для первого интеграла: \n",
      " Среднее значение:  -2.8283239523216337\n",
      " Среднеквадратичное отклонение:  0.00020603521104519074\n",
      "Для второго интеграла :\n",
      " Среднее значение:  1.8857701481402007\n",
      " Среднеквадратичное отклонение:  9.69159237755255e-05\n",
      "Для четвертого интеграла :\n",
      " Среднее значение:  -4.570099563986234\n",
      " Среднеквадратичное отклонение:  0.00028935196067769514\n"
     ]
    },
    {
     "data": {
      "image/png": "[encoded data removed]",
      "text/plain": [
       "<Figure size 432x288 with 1 Axes>"
      ]
     },
     "metadata": {
      "needs_background": "light"
     },
     "output_type": "display_data"
    }
   ],
   "source": [
    "checking_for_integrals(sol, h, np.linspace(0, 1, 10000))"
   ]
  },
  {
   "cell_type": "code",
   "execution_count": 19,
   "metadata": {},
   "outputs": [
    {
     "data": {
      "text/plain": [
       "Text(0.5, 1.0, 'Численное решение в момент времени 0.7c')"
      ]
     },
     "execution_count": 19,
     "metadata": {},
     "output_type": "execute_result"
    },
    {
     "data": {
      "image/png": "[encoded data removed]",
      "text/plain": [
       "<Figure size 432x288 with 1 Axes>"
      ]
     },
     "metadata": {
      "needs_background": "light"
     },
     "output_type": "display_data"
    }
   ],
   "source": [
    "x = np.linspace(-10, 10, 81)\n",
    "arr = sol[6999]\n",
    "arr = arr[2:83]\n",
    "plt.step(x, np.squeeze(arr))\n",
    "plt.grid()\n",
    "plt.xlabel('x')\n",
    "plt.ylabel('u(x, 0.7)')\n",
    "plt.title('Численное решение в момент времени 0.7c')"
   ]
  },
  {
   "cell_type": "code",
   "execution_count": 20,
   "metadata": {},
   "outputs": [
    {
     "name": "stdout",
     "output_type": "stream",
     "text": [
      "Cреднеквадратичная ошибка:  2.79714617847547e-06\n"
     ]
    }
   ],
   "source": [
    "#найдем среднеквадратичную ошибку в момент времени 0.7с\n",
    "from sklearn.metrics import mean_squared_error as mse\n",
    "\n",
    "print('Cреднеквадратичная ошибка: ', mse(arr, u_07))"
   ]
  },
  {
   "cell_type": "code",
   "execution_count": 21,
   "metadata": {},
   "outputs": [
    {
     "name": "stdout",
     "output_type": "stream",
     "text": [
      "Погрешность равна:  0.005498819373084385\n"
     ]
    }
   ],
   "source": [
    "print('Погрешность равна: ', max_error(arr, u_07))"
   ]
  },
  {
   "cell_type": "markdown",
   "metadata": {},
   "source": [
    "## Два солитона"
   ]
  },
  {
   "cell_type": "markdown",
   "metadata": {},
   "source": [
    "Все аналогичные действия провернем с ситуацией, когда нашим решением являются 2 солитона"
   ]
  },
  {
   "cell_type": "code",
   "execution_count": 22,
   "metadata": {},
   "outputs": [],
   "source": [
    "def two_solit(x, t):\n",
    "    return -6*(np.cosh(x))**(-2)"
   ]
  },
  {
   "cell_type": "code",
   "execution_count": 23,
   "metadata": {},
   "outputs": [],
   "source": [
    "u_0 = two_solit(x, 0)"
   ]
  },
  {
   "cell_type": "code",
   "execution_count": 24,
   "metadata": {},
   "outputs": [
    {
     "data": {
      "text/plain": [
       "Text(0.5, 1.0, 'Начальные условия при 2х солитонах')"
      ]
     },
     "execution_count": 24,
     "metadata": {},
     "output_type": "execute_result"
    },
    {
     "data": {
      "image/png": "[encoded data removed]",
      "text/plain": [
       "<Figure size 432x288 with 1 Axes>"
      ]
     },
     "metadata": {
      "needs_background": "light"
     },
     "output_type": "display_data"
    }
   ],
   "source": [
    "plt.step(x, np.squeeze(u_0))\n",
    "plt.grid()\n",
    "plt.xlabel('x')\n",
    "plt.ylabel('u(x, 0)')\n",
    "plt.title('Начальные условия при 2х солитонах')"
   ]
  },
  {
   "cell_type": "code",
   "execution_count": 25,
   "metadata": {},
   "outputs": [],
   "source": [
    "#точное решение\n",
    "def two_solit_exact(x, t):\n",
    "    chisl = 4*np.cosh(2*x - 8*t) + np.cosh(4*x-64*t) + 3\n",
    "    znam = (3*np.cosh(x-28*t) + np.cosh(3*x-36*t))**2\n",
    "    return -12*(chisl/znam)"
   ]
  },
  {
   "cell_type": "code",
   "execution_count": 26,
   "metadata": {},
   "outputs": [
    {
     "data": {
      "text/plain": [
       "Text(0.5, 1.0, 'Точное решение в момент времени 0.3c')"
      ]
     },
     "execution_count": 26,
     "metadata": {},
     "output_type": "execute_result"
    },
    {
     "data": {
      "image/png": "[encoded data removed]",
      "text/plain": [
       "<Figure size 432x288 with 1 Axes>"
      ]
     },
     "metadata": {
      "needs_background": "light"
     },
     "output_type": "display_data"
    }
   ],
   "source": [
    "exact_sol_03 = two_solit_exact(x, 0.3)\n",
    "plt.step(x, np.squeeze(exact_sol_03))\n",
    "plt.grid()\n",
    "plt.xlabel('x')\n",
    "plt.ylabel('u(x, 0.3)')\n",
    "plt.title('Точное решение в момент времени 0.3c')"
   ]
  },
  {
   "cell_type": "code",
   "execution_count": 27,
   "metadata": {},
   "outputs": [],
   "source": [
    "sol = np.zeros((int(0.5*T/dt), len(x)))\n",
    "sol[0] = u_0"
   ]
  },
  {
   "cell_type": "code",
   "execution_count": 28,
   "metadata": {},
   "outputs": [],
   "source": [
    "side = np.zeros((int(0.5*T/dt), 2))\n",
    "sol = np.concatenate((side, sol), axis=1)\n",
    "sol = np.concatenate((sol, side), axis=1)"
   ]
  },
  {
   "cell_type": "code",
   "execution_count": 29,
   "metadata": {},
   "outputs": [],
   "source": [
    "t, x = sol.shape\n",
    "for i in range(1, t):\n",
    "    for j in range(3, x-2):\n",
    "        sol[i, j] = calculate(dt, h, sol[i-1, j-2], sol[i-1, j-1], sol[i-1, j], \\\n",
    "                             sol[i-1, j+1], sol[i-1, j+2])"
   ]
  },
  {
   "cell_type": "code",
   "execution_count": 30,
   "metadata": {},
   "outputs": [
    {
     "name": "stdout",
     "output_type": "stream",
     "text": [
      "Для первого интеграла: \n",
      " Среднее значение:  -11.999807940274769\n",
      " Среднеквадратичное отклонение:  0.000977890828970514\n",
      "Для второго интеграла :\n",
      " Среднее значение:  47.82586241394221\n",
      " Среднеквадратичное отклонение:  0.2943484513607763\n",
      "Для четвертого интеграла :\n",
      " Среднее значение:  -896.7090165179733\n",
      " Среднеквадратичное отклонение:  22.235925674853032\n"
     ]
    },
    {
     "data": {
      "image/png": "[encoded data removed]",
      "text/plain": [
       "<Figure size 432x288 with 1 Axes>"
      ]
     },
     "metadata": {
      "needs_background": "light"
     },
     "output_type": "display_data"
    }
   ],
   "source": [
    "checking_for_integrals(sol, h, np.linspace(0, 0.5, 5000))"
   ]
  },
  {
   "cell_type": "code",
   "execution_count": 31,
   "metadata": {},
   "outputs": [
    {
     "data": {
      "text/plain": [
       "Text(0.5, 1.0, 'Численное решение в момент времени 0.3с')"
      ]
     },
     "execution_count": 31,
     "metadata": {},
     "output_type": "execute_result"
    },
    {
     "data": {
      "image/png": "[encoded data removed]",
      "text/plain": [
       "<Figure size 432x288 with 1 Axes>"
      ]
     },
     "metadata": {
      "needs_background": "light"
     },
     "output_type": "display_data"
    }
   ],
   "source": [
    "x = np.linspace(-10, 10, 81)\n",
    "arr = sol[2999]\n",
    "arr = arr[2:83]\n",
    "plt.step(x, np.squeeze(arr))\n",
    "plt.grid()\n",
    "plt.xlabel('x')\n",
    "plt.ylabel('u(x, 0.3)')\n",
    "plt.title('Численное решение в момент времени 0.3с')"
   ]
  },
  {
   "cell_type": "code",
   "execution_count": 32,
   "metadata": {},
   "outputs": [
    {
     "name": "stdout",
     "output_type": "stream",
     "text": [
      "Cреднеквадратичная ошибка:  0.16836294908768407\n",
      "Погрешность равна:  1.7758493563249402\n"
     ]
    }
   ],
   "source": [
    "print('Cреднеквадратичная ошибка: ', mse(arr, exact_sol_03))\n",
    "print('Погрешность равна: ', max_error(arr, exact_sol_03))"
   ]
  },
  {
   "cell_type": "markdown",
   "metadata": {},
   "source": [
    "## Сходимость по правилу Рунге"
   ]
  },
  {
   "cell_type": "markdown",
   "metadata": {},
   "source": [
    "Найдем сходимость по h"
   ]
  },
  {
   "cell_type": "code",
   "execution_count": 33,
   "metadata": {},
   "outputs": [],
   "source": [
    "#увеличиваем сетку в 2 раза\n",
    "x = np.linspace(-10, 10, 41)\n",
    "h = x[1] - x[0]\n",
    "dt = 0.0001\n",
    "T = 1.0"
   ]
  },
  {
   "cell_type": "code",
   "execution_count": 34,
   "metadata": {},
   "outputs": [],
   "source": [
    "sol = np.zeros((int(T/dt), len(x)))\n",
    "sol[0] = one_solit(x, 0)"
   ]
  },
  {
   "cell_type": "code",
   "execution_count": 35,
   "metadata": {},
   "outputs": [],
   "source": [
    "side = np.zeros((int(T/dt), 2))\n",
    "sol = np.concatenate((side, sol), axis=1)\n",
    "sol = np.concatenate((sol, side), axis=1)"
   ]
  },
  {
   "cell_type": "code",
   "execution_count": 36,
   "metadata": {},
   "outputs": [],
   "source": [
    "t, x = sol.shape\n",
    "for i in range(1, t):\n",
    "    for j in range(3, x-2):\n",
    "        sol[i, j] = calculate(dt, h, sol[i-1, j-2], sol[i-1, j-1], sol[i-1, j], \\\n",
    "                             sol[i-1, j+1], sol[i-1, j+2])"
   ]
  },
  {
   "cell_type": "code",
   "execution_count": 37,
   "metadata": {},
   "outputs": [],
   "source": [
    "sol_05 = sol.copy()"
   ]
  },
  {
   "cell_type": "code",
   "execution_count": 38,
   "metadata": {},
   "outputs": [],
   "source": [
    "def find_error(arr1, arr2):\n",
    "    a, b = arr1.shape\n",
    "    c, d = arr2.shape\n",
    "    arr1 = arr1[:, 3 : b-2]\n",
    "    arr2 = arr2[:, 3 : d-2]\n",
    "    m = 0\n",
    "    for i in range(a):\n",
    "        err = max_error(arr2[i], arr1[i, ::2])\n",
    "        if err > m:\n",
    "            m = err\n",
    "    return m/3"
   ]
  },
  {
   "cell_type": "code",
   "execution_count": 39,
   "metadata": {},
   "outputs": [
    {
     "name": "stdout",
     "output_type": "stream",
     "text": [
      "Погрешность по правилу Рунге равна:  0.05144006889969547\n"
     ]
    }
   ],
   "source": [
    "print('Погрешность по правилу Рунге равна: ', find_error(sol025, sol_05))"
   ]
  },
  {
   "cell_type": "code",
   "execution_count": 40,
   "metadata": {},
   "outputs": [],
   "source": [
    "#увеличиваем h еще в 2 раза\n",
    "x = np.linspace(-10, 10, 21)\n",
    "h = x[1] - x[0]\n",
    "dt = 0.0001\n",
    "T = 1.0"
   ]
  },
  {
   "cell_type": "code",
   "execution_count": 41,
   "metadata": {},
   "outputs": [],
   "source": [
    "sol = np.zeros((int(T/dt), len(x)))\n",
    "sol[0] = one_solit(x, 0)"
   ]
  },
  {
   "cell_type": "code",
   "execution_count": 42,
   "metadata": {},
   "outputs": [],
   "source": [
    "side = np.zeros((int(T/dt), 2))\n",
    "sol = np.concatenate((side, sol), axis=1)\n",
    "sol = np.concatenate((sol, side), axis=1)"
   ]
  },
  {
   "cell_type": "code",
   "execution_count": 43,
   "metadata": {},
   "outputs": [],
   "source": [
    "t, x = sol.shape\n",
    "for i in range(1, t):\n",
    "    for j in range(3, x-2):\n",
    "        sol[i, j] = calculate(dt, h, sol[i-1, j-2], sol[i-1, j-1], sol[i-1, j], \\\n",
    "                             sol[i-1, j+1], sol[i-1, j+2])"
   ]
  },
  {
   "cell_type": "code",
   "execution_count": 44,
   "metadata": {},
   "outputs": [
    {
     "name": "stdout",
     "output_type": "stream",
     "text": [
      "Погрешность по правилу Рунге равна:  0.12351774220084709\n"
     ]
    }
   ],
   "source": [
    "print('Погрешность по правилу Рунге равна: ', find_error(sol_05, sol))"
   ]
  },
  {
   "cell_type": "markdown",
   "metadata": {},
   "source": [
    "## Неявная схема"
   ]
  },
  {
   "cell_type": "markdown",
   "metadata": {},
   "source": [
    "Результаты в момент времени 0.7с по неявной схеме подсчитаны в модуле на matlab. Здесь я вручную копирую результаты чтобы сравнить их с точным решением."
   ]
  },
  {
   "cell_type": "code",
   "execution_count": 45,
   "metadata": {},
   "outputs": [],
   "source": [
    "matlab_solution = [-0.0001, -0.0004, 0.0002, 0.0003,0.0001,-0.0002,0.0014,0.0003,0.0007,0.0001,-0.0001,\\\n",
    "                   -0.0009,-0.0010,-0.0013, 0.0001,-0.0005,0.0000,0.0003,0.0007,-0.0004,0.0001,0.0003,\\\n",
    "                   -0.0005,-0.0005,-0.0006,-0.0016,-0.0028,-0.0052,-0.0068,-0.0105,-0.0159,-0.0217,-0.0314,\\\n",
    "                   -0.0455,-0.0643,-0.0902,-0.1274,-0.1766,-0.2413,-0.3266,-0.4308,-0.5535,-0.6880,-0.8188,\\\n",
    "                   -0.9270,-0.9901,-0.9948,-0.9383,-0.8348,-0.7056,-0.5702,-0.4462,-0.3387,-0.2520,-0.1854,\\\n",
    "                   -0.1341,-0.0964,-0.0688,-0.0488,-0.0351,-0.0264,-0.0180,-0.0121,-0.0089,-0.0061,-0.0051,-0.0027,\\\n",
    "                   -0.0016,-0.0010,-0.0015,-0.0010,-0.0001,-0.0005,0.0004,0.0010,0.0012,0.0002,0.0001,\\\n",
    "                   -0.0005,0.0001,-0.0001]"
   ]
  },
  {
   "cell_type": "code",
   "execution_count": 46,
   "metadata": {},
   "outputs": [],
   "source": [
    "mat_sol = np.array(matlab_solution)"
   ]
  },
  {
   "cell_type": "code",
   "execution_count": 47,
   "metadata": {},
   "outputs": [
    {
     "name": "stdout",
     "output_type": "stream",
     "text": [
      "Cреднеквадратичная ошибка:  0.005410032003012044\n"
     ]
    }
   ],
   "source": [
    "x = np.linspace(-10, 10, 81)\n",
    "print('Cреднеквадратичная ошибка: ', max_error(mat_sol, one_solit(x, 0.7)))"
   ]
  },
  {
   "cell_type": "markdown",
   "metadata": {},
   "source": [
    "Видим высокую точность результата"
   ]
  },
  {
   "cell_type": "code",
   "execution_count": 48,
   "metadata": {},
   "outputs": [],
   "source": [
    "def count_lines(filename, chunk_size=1<<13):\n",
    "    with open(filename) as file:\n",
    "        return sum(chunk.count('\\n')\n",
    "                   for chunk in iter(lambda: file.read(chunk_size), ''))"
   ]
  },
  {
   "cell_type": "code",
   "execution_count": 49,
   "metadata": {},
   "outputs": [
    {
     "data": {
      "text/plain": [
       "135000"
      ]
     },
     "execution_count": 49,
     "metadata": {},
     "output_type": "execute_result"
    }
   ],
   "source": [
    "count_lines('matrix.txt')"
   ]
  },
  {
   "cell_type": "code",
   "execution_count": 50,
   "metadata": {},
   "outputs": [],
   "source": [
    "arr = np.loadtxt('matrix.txt')"
   ]
  },
  {
   "cell_type": "code",
   "execution_count": 51,
   "metadata": {},
   "outputs": [],
   "source": [
    "arr = np.reshape(arr, (5000, 81))"
   ]
  },
  {
   "cell_type": "code",
   "execution_count": 52,
   "metadata": {},
   "outputs": [
    {
     "data": {
      "text/plain": [
       "(5000, 81)"
      ]
     },
     "execution_count": 52,
     "metadata": {},
     "output_type": "execute_result"
    }
   ],
   "source": [
    "arr.shape"
   ]
  },
  {
   "cell_type": "code",
   "execution_count": 53,
   "metadata": {},
   "outputs": [],
   "source": [
    "side = np.zeros((5000, 2))\n",
    "arr = np.concatenate((side, arr), axis=1)\n",
    "arr = np.concatenate((arr, side), axis=1)"
   ]
  },
  {
   "cell_type": "code",
   "execution_count": 54,
   "metadata": {},
   "outputs": [
    {
     "data": {
      "text/plain": [
       "(5000, 85)"
      ]
     },
     "execution_count": 54,
     "metadata": {},
     "output_type": "execute_result"
    }
   ],
   "source": [
    "arr.shape"
   ]
  },
  {
   "cell_type": "markdown",
   "metadata": {},
   "source": [
    "После того, как мы выгрузили результат работы неявной схемы из Matlab и привели к нужному виду, проверим ее на сохранение интегралов движения и визулизируем с помощью нашей написанной функции"
   ]
  },
  {
   "cell_type": "code",
   "execution_count": 55,
   "metadata": {},
   "outputs": [
    {
     "name": "stdout",
     "output_type": "stream",
     "text": [
      "Для первого интеграла: \n",
      " Среднее значение:  -11.3098218\n",
      " Среднеквадратичное отклонение:  0.0024556149453851504\n",
      "Для второго интеграла :\n",
      " Среднее значение:  7.5424318050000005\n",
      " Среднеквадратичное отклонение:  0.001588918451203493\n",
      "Для четвертого интеграла :\n",
      " Среднее значение:  -5.943515885488803\n",
      " Среднеквадратичное отклонение:  0.002028462398341803\n"
     ]
    },
    {
     "data": {
      "image/png": "[encoded data removed]",
      "text/plain": [
       "<Figure size 432x288 with 1 Axes>"
      ]
     },
     "metadata": {
      "needs_background": "light"
     },
     "output_type": "display_data"
    }
   ],
   "source": [
    "checking_for_integrals(arr, h, np.linspace(0, 0.5, 5000))"
   ]
  },
  {
   "cell_type": "markdown",
   "metadata": {},
   "source": [
    "## Односолитонное решение на больших расстояниях"
   ]
  },
  {
   "cell_type": "code",
   "execution_count": 56,
   "metadata": {},
   "outputs": [],
   "source": [
    "x = np.linspace(-30, 30, 241)\n",
    "h = x[1] - x[0]\n",
    "dt = 0.0001\n",
    "T = 1.0"
   ]
  },
  {
   "cell_type": "code",
   "execution_count": 57,
   "metadata": {},
   "outputs": [],
   "source": [
    "sol = np.zeros((11*int(T/dt), len(x)))\n",
    "sol[0] = one_solit(x, 0)"
   ]
  },
  {
   "cell_type": "code",
   "execution_count": 58,
   "metadata": {},
   "outputs": [],
   "source": [
    "side = np.zeros((11*int(T/dt), 2))\n",
    "sol = np.concatenate((side, sol), axis=1)\n",
    "sol = np.concatenate((sol, side), axis=1)"
   ]
  },
  {
   "cell_type": "code",
   "execution_count": 59,
   "metadata": {},
   "outputs": [],
   "source": [
    "t, x = sol.shape\n",
    "for i in range(1, t):\n",
    "    for j in range(3, x-2):\n",
    "        sol[i, j] = calculate(dt, h, sol[i-1, j-2], sol[i-1, j-1], sol[i-1, j], \\\n",
    "                             sol[i-1, j+1], sol[i-1, j+2])"
   ]
  },
  {
   "cell_type": "code",
   "execution_count": 60,
   "metadata": {},
   "outputs": [
    {
     "data": {
      "text/plain": [
       "Text(0.5, 1.0, 'Численное решение в момент времени 11c')"
      ]
     },
     "execution_count": 60,
     "metadata": {},
     "output_type": "execute_result"
    },
    {
     "data": {
      "image/png": "[encoded data removed]",
      "text/plain": [
       "<Figure size 432x288 with 1 Axes>"
      ]
     },
     "metadata": {
      "needs_background": "light"
     },
     "output_type": "display_data"
    }
   ],
   "source": [
    "x = np.linspace(-30, 30, 241)\n",
    "arr = sol[109999]\n",
    "arr = arr[2:243]\n",
    "plt.step(x, np.squeeze(arr))\n",
    "plt.grid()\n",
    "plt.xlabel('x')\n",
    "plt.ylabel('u(x, 11)')\n",
    "plt.title('Численное решение в момент времени 11c')"
   ]
  },
  {
   "cell_type": "code",
   "execution_count": 61,
   "metadata": {},
   "outputs": [
    {
     "data": {
      "text/plain": [
       "(110000, 245)"
      ]
     },
     "execution_count": 61,
     "metadata": {},
     "output_type": "execute_result"
    }
   ],
   "source": [
    "sol.shape"
   ]
  },
  {
   "cell_type": "code",
   "execution_count": 62,
   "metadata": {},
   "outputs": [
    {
     "data": {
      "text/plain": [
       "Text(0.5, 1.0, 'Решение в момент времени 0.7с')"
      ]
     },
     "execution_count": 62,
     "metadata": {},
     "output_type": "execute_result"
    },
    {
     "data": {
      "image/png": "[encoded data removed]",
      "text/plain": [
       "<Figure size 432x288 with 1 Axes>"
      ]
     },
     "metadata": {
      "needs_background": "light"
     },
     "output_type": "display_data"
    }
   ],
   "source": [
    "plt.step(x, np.squeeze(one_solit(x, 11)))\n",
    "plt.grid()\n",
    "plt.xlabel('x')\n",
    "plt.ylabel('u(x, 0.7)')\n",
    "plt.title('Решение в момент времени 0.7с')"
   ]
  },
  {
   "cell_type": "code",
   "execution_count": 63,
   "metadata": {},
   "outputs": [
    {
     "name": "stdout",
     "output_type": "stream",
     "text": [
      "Для первого интеграла: \n",
      " Среднее значение:  -2.8284862715067103\n",
      " Среднеквадратичное отклонение:  0.00025657989388853844\n",
      "Для второго интеграла :\n",
      " Среднее значение:  1.8875388306921816\n",
      " Среднеквадратичное отклонение:  0.001472263896430182\n",
      "Для четвертого интеграла :\n",
      " Среднее значение:  -4.570716694002921\n",
      " Среднеквадратичное отклонение:  0.01727606530177537\n"
     ]
    },
    {
     "name": "stderr",
     "output_type": "stream",
     "text": [
      "/home/victor/anacondom3/lib/python3.7/site-packages/IPython/core/events.py:88: UserWarning: Creating legend with loc=\"best\" can be slow with large amounts of data.\n",
      "  func(*args, **kwargs)\n",
      "/home/victor/anacondom3/lib/python3.7/site-packages/IPython/core/pylabtools.py:128: UserWarning: Creating legend with loc=\"best\" can be slow with large amounts of data.\n",
      "  fig.canvas.print_figure(bytes_io, **kw)\n"
     ]
    },
    {
     "data": {
      "image/png": "[encoded data removed]",
      "text/plain": [
       "<Figure size 432x288 with 1 Axes>"
      ]
     },
     "metadata": {
      "needs_background": "light"
     },
     "output_type": "display_data"
    }
   ],
   "source": [
    "checking_for_integrals(sol, h, np.linspace(0, 11, 110000))"
   ]
  },
  {
   "cell_type": "code",
   "execution_count": 64,
   "metadata": {},
   "outputs": [
    {
     "name": "stdout",
     "output_type": "stream",
     "text": [
      "0.042954459810444656\n"
     ]
    }
   ],
   "source": [
    "print(max_error(one_solit(x, 11), arr))"
   ]
  },
  {
   "cell_type": "markdown",
   "metadata": {},
   "source": [
    "## Проверка сходимости односолитонного решения по правилу Рунге"
   ]
  },
  {
   "cell_type": "markdown",
   "metadata": {},
   "source": [
    "Рассмотрим последовательно сетки с шагом h, 2h, 4h, h/2, чтобы посмотреть сходимость"
   ]
  },
  {
   "cell_type": "markdown",
   "metadata": {},
   "source": [
    "## 4h"
   ]
  },
  {
   "cell_type": "code",
   "execution_count": 102,
   "metadata": {},
   "outputs": [],
   "source": [
    "x = np.linspace(-10, 10, 21)\n",
    "h = x[1] - x[0]\n",
    "dt = 0.0001 * 8 * 8\n",
    "T = 1.0"
   ]
  },
  {
   "cell_type": "code",
   "execution_count": 103,
   "metadata": {},
   "outputs": [],
   "source": [
    "sol = np.zeros((int(T/dt), len(x)))\n",
    "sol[0] = one_solit(x, 0)\n",
    "side = np.zeros((int(T/dt), 2))\n",
    "sol = np.concatenate((side, sol), axis=1)\n",
    "sol = np.concatenate((sol, side), axis=1)\n",
    "t, x = sol.shape\n",
    "for i in range(1, t):\n",
    "    for j in range(3, x-2):\n",
    "        sol[i, j] = calculate(dt, h, sol[i-1, j-2], sol[i-1, j-1], sol[i-1, j], \\\n",
    "                             sol[i-1, j+1], sol[i-1, j+2])"
   ]
  },
  {
   "cell_type": "code",
   "execution_count": 104,
   "metadata": {},
   "outputs": [
    {
     "data": {
      "text/plain": [
       "(156, 25)"
      ]
     },
     "execution_count": 104,
     "metadata": {},
     "output_type": "execute_result"
    }
   ],
   "source": [
    "sol.shape"
   ]
  },
  {
   "cell_type": "code",
   "execution_count": 105,
   "metadata": {},
   "outputs": [],
   "source": [
    "sol1 = sol[110][2:23]"
   ]
  },
  {
   "cell_type": "code",
   "execution_count": 107,
   "metadata": {},
   "outputs": [
    {
     "data": {
      "text/plain": [
       "Text(0.5, 1.0, 'Численное решение в момент времени 0.7c')"
      ]
     },
     "execution_count": 107,
     "metadata": {},
     "output_type": "execute_result"
    },
    {
     "data": {
      "image/png": "[encoded data removed]",
      "text/plain": [
       "<Figure size 432x288 with 1 Axes>"
      ]
     },
     "metadata": {
      "needs_background": "light"
     },
     "output_type": "display_data"
    }
   ],
   "source": [
    "x = np.linspace(-10, 10, 21)\n",
    "plt.step(x, np.squeeze(sol1))\n",
    "plt.grid()\n",
    "plt.xlabel('x')\n",
    "plt.ylabel('u(x, 0.7)')\n",
    "plt.title('Численное решение в момент времени 0.7c')"
   ]
  },
  {
   "cell_type": "markdown",
   "metadata": {},
   "source": [
    "### 2h"
   ]
  },
  {
   "cell_type": "code",
   "execution_count": 65,
   "metadata": {},
   "outputs": [],
   "source": [
    "x = np.linspace(-10, 10, 41)\n",
    "h = x[1] - x[0]\n",
    "dt = 0.0001 * 8\n",
    "T = 1.0"
   ]
  },
  {
   "cell_type": "code",
   "execution_count": 66,
   "metadata": {},
   "outputs": [],
   "source": [
    "sol = np.zeros((int(T/dt), len(x)))\n",
    "sol[0] = one_solit(x, 0)"
   ]
  },
  {
   "cell_type": "code",
   "execution_count": 67,
   "metadata": {},
   "outputs": [],
   "source": [
    "side = np.zeros((int(T/dt), 2))\n",
    "sol = np.concatenate((side, sol), axis=1)\n",
    "sol = np.concatenate((sol, side), axis=1)"
   ]
  },
  {
   "cell_type": "code",
   "execution_count": 68,
   "metadata": {},
   "outputs": [],
   "source": [
    "t, x = sol.shape\n",
    "for i in range(1, t):\n",
    "    for j in range(3, x-2):\n",
    "        sol[i, j] = calculate(dt, h, sol[i-1, j-2], sol[i-1, j-1], sol[i-1, j], \\\n",
    "                             sol[i-1, j+1], sol[i-1, j+2])"
   ]
  },
  {
   "cell_type": "code",
   "execution_count": 69,
   "metadata": {},
   "outputs": [],
   "source": [
    "sol05 = sol.copy()"
   ]
  },
  {
   "cell_type": "code",
   "execution_count": 70,
   "metadata": {},
   "outputs": [
    {
     "data": {
      "text/plain": [
       "(1250, 45)"
      ]
     },
     "execution_count": 70,
     "metadata": {},
     "output_type": "execute_result"
    }
   ],
   "source": [
    "sol05.shape"
   ]
  },
  {
   "cell_type": "code",
   "execution_count": 71,
   "metadata": {},
   "outputs": [
    {
     "data": {
      "text/plain": [
       "Text(0.5, 1.0, 'Численное решение в момент времени 0.7c')"
      ]
     },
     "execution_count": 71,
     "metadata": {},
     "output_type": "execute_result"
    },
    {
     "data": {
      "image/png": "[encoded data removed]",
      "text/plain": [
       "<Figure size 432x288 with 1 Axes>"
      ]
     },
     "metadata": {
      "needs_background": "light"
     },
     "output_type": "display_data"
    }
   ],
   "source": [
    "x = np.linspace(-10, 10, 41)\n",
    "arr = sol[int(1250*0.7)]\n",
    "arr = arr[2:43]\n",
    "plt.step(x, np.squeeze(arr))\n",
    "plt.grid()\n",
    "plt.xlabel('x')\n",
    "plt.ylabel('u(x, 0.7)')\n",
    "plt.title('Численное решение в момент времени 0.7c')"
   ]
  },
  {
   "cell_type": "code",
   "execution_count": 72,
   "metadata": {},
   "outputs": [],
   "source": [
    "sol07_05 = arr"
   ]
  },
  {
   "cell_type": "code",
   "execution_count": 73,
   "metadata": {},
   "outputs": [],
   "source": [
    "sol07_025 = sol025[6999][2:83]"
   ]
  },
  {
   "cell_type": "markdown",
   "metadata": {},
   "source": [
    "### h/2"
   ]
  },
  {
   "cell_type": "code",
   "execution_count": 74,
   "metadata": {},
   "outputs": [],
   "source": [
    "x = np.linspace(-10, 10, 161)\n",
    "h = x[1] - x[0]\n",
    "dt = 0.0001 / 8\n",
    "T = 1.0"
   ]
  },
  {
   "cell_type": "code",
   "execution_count": 75,
   "metadata": {},
   "outputs": [],
   "source": [
    "sol = np.zeros((int(T/dt), len(x)))\n",
    "sol[0] = one_solit(x, 0)"
   ]
  },
  {
   "cell_type": "code",
   "execution_count": 76,
   "metadata": {},
   "outputs": [],
   "source": [
    "side = np.zeros((int(T/dt), 2))\n",
    "sol = np.concatenate((side, sol), axis=1)\n",
    "sol = np.concatenate((sol, side), axis=1)"
   ]
  },
  {
   "cell_type": "code",
   "execution_count": 77,
   "metadata": {},
   "outputs": [],
   "source": [
    "t, x = sol.shape\n",
    "for i in range(1, t):\n",
    "    for j in range(3, x-2):\n",
    "        sol[i, j] = calculate(dt, h, sol[i-1, j-2], sol[i-1, j-1], sol[i-1, j], \\\n",
    "                             sol[i-1, j+1], sol[i-1, j+2])"
   ]
  },
  {
   "cell_type": "code",
   "execution_count": 78,
   "metadata": {},
   "outputs": [],
   "source": [
    "sol07_0125 = sol[int(t*0.7)][2:163]"
   ]
  },
  {
   "cell_type": "code",
   "execution_count": 79,
   "metadata": {},
   "outputs": [
    {
     "data": {
      "text/plain": [
       "Text(0.5, 1.0, 'Численное решение в момент времени 0.7c')"
      ]
     },
     "execution_count": 79,
     "metadata": {},
     "output_type": "execute_result"
    },
    {
     "data": {
      "image/png": "[encoded data removed]",
      "text/plain": [
       "<Figure size 432x288 with 1 Axes>"
      ]
     },
     "metadata": {
      "needs_background": "light"
     },
     "output_type": "display_data"
    }
   ],
   "source": [
    "x = np.linspace(-10, 10, 161)\n",
    "plt.step(x, np.squeeze(sol07_0125))\n",
    "plt.grid()\n",
    "plt.xlabel('x')\n",
    "plt.ylabel('u(x, 0.7)')\n",
    "plt.title('Численное решение в момент времени 0.7c')"
   ]
  },
  {
   "cell_type": "markdown",
   "metadata": {},
   "source": [
    "### Анализ полученных решений"
   ]
  },
  {
   "cell_type": "code",
   "execution_count": 108,
   "metadata": {},
   "outputs": [
    {
     "name": "stdout",
     "output_type": "stream",
     "text": [
      "0.14603548973882957\n"
     ]
    }
   ],
   "source": [
    "#для h = 0.5\n",
    "#отклонение от h = 1\n",
    "dev05 = max_error(sol1, sol07_05[::2])\n",
    "print(dev05)"
   ]
  },
  {
   "cell_type": "code",
   "execution_count": 99,
   "metadata": {},
   "outputs": [
    {
     "name": "stdout",
     "output_type": "stream",
     "text": [
      "0.0153048513433941\n"
     ]
    }
   ],
   "source": [
    "#для h = 0.25\n",
    "#отклонение от h = 0.5\n",
    "dev025 = max_error(sol07_05, sol07_025[::2])\n",
    "print(dev025)"
   ]
  },
  {
   "cell_type": "code",
   "execution_count": 101,
   "metadata": {},
   "outputs": [
    {
     "name": "stdout",
     "output_type": "stream",
     "text": [
      "0.004223299140367787\n"
     ]
    }
   ],
   "source": [
    "#для h = 0.25\n",
    "#отклонение от h = 0.5\n",
    "dev0125 = max_error(sol07_025, sol07_0125[::2])\n",
    "print(dev0125)"
   ]
  },
  {
   "cell_type": "markdown",
   "metadata": {},
   "source": [
    "В то же время реальные отклонения от точных решений:"
   ]
  },
  {
   "cell_type": "code",
   "execution_count": 110,
   "metadata": {},
   "outputs": [
    {
     "name": "stdout",
     "output_type": "stream",
     "text": [
      "0.16360505703005934\n"
     ]
    }
   ],
   "source": [
    "#для h = 1\n",
    "print(max_error(one_solit(np.linspace(-10, 10, 21), 0.7), sol1))"
   ]
  },
  {
   "cell_type": "code",
   "execution_count": 111,
   "metadata": {},
   "outputs": [
    {
     "name": "stdout",
     "output_type": "stream",
     "text": [
      "0.019907655989813033\n"
     ]
    }
   ],
   "source": [
    "#для h = 0.5\n",
    "print(max_error(one_solit(np.linspace(-10, 10, 41), 0.7), sol07_05))"
   ]
  },
  {
   "cell_type": "code",
   "execution_count": 112,
   "metadata": {},
   "outputs": [
    {
     "name": "stdout",
     "output_type": "stream",
     "text": [
      "0.005498819373084385\n"
     ]
    }
   ],
   "source": [
    "#для h = 0.25\n",
    "print(max_error(one_solit(np.linspace(-10, 10, 81), 0.7), sol07_025))"
   ]
  },
  {
   "cell_type": "code",
   "execution_count": 113,
   "metadata": {},
   "outputs": [
    {
     "name": "stdout",
     "output_type": "stream",
     "text": [
      "0.001291715217790368\n"
     ]
    }
   ],
   "source": [
    "#для h = 0.125\n",
    "print(max_error(one_solit(np.linspace(-10, 10, 161), 0.7), sol07_0125))"
   ]
  },
  {
   "cell_type": "code",
   "execution_count": null,
   "metadata": {},
   "outputs": [],
   "source": []
  }
 ],
 "metadata": {
  "kernelspec": {
   "display_name": "Python 3",
   "language": "python",
   "name": "python3"
  },
  "language_info": {
   "codemirror_mode": {
    "name": "ipython",
    "version": 3
   },
   "file_extension": ".py",
   "mimetype": "text/x-python",
   "name": "python",
   "nbconvert_exporter": "python",
   "pygments_lexer": "ipython3",
   "version": "3.7.4"
  }
 },
 "nbformat": 4,
 "nbformat_minor": 2
}
